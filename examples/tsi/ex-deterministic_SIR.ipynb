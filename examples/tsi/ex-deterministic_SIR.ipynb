{
 "cells": [
  {
   "cell_type": "code",
   "execution_count": 1,
   "metadata": {},
   "outputs": [],
   "source": [
    "### Imports ###\n",
    "import pyross.tsi as pyrosstsi\n",
    "import numpy as np\n",
    "import matplotlib.pyplot as plt\n",
    "\n",
    "import time"
   ]
  },
  {
   "cell_type": "code",
   "execution_count": 2,
   "metadata": {},
   "outputs": [],
   "source": [
    "### Model Init from SIR class ###\n",
    "\n",
    "# Population\n",
    "N = int(1e3) # full population size\n",
    "M = 1 # just one age group to begin\n",
    "Ni = np.array([N]) # Array of age group sizes\n",
    "\n",
    "# Contact Matrix\n",
    "CM = np.zeros((M, M))\n",
    "def contactMatrix(t):\n",
    "    CM[0,0] = 1\n",
    "    return CM\n",
    "\n",
    "# Time since infection: cut-off + discretisation\n",
    "tsi_max = 50 # days\n",
    "dtsi = 1/5. # days\n",
    "kI = int(tsi_max/dtsi)+1\n",
    "dt = dtsi\n",
    "Tf = 200 # days\n",
    "Nf = int(Tf/dt)+1\n",
    "\n",
    "# beta\n",
    "def beta_fun(tsi, beta0, tsi_max):\n",
    "    if tsi<tsi_max:\n",
    "        return beta0\n",
    "    else:\n",
    "        return None\n",
    "    \n",
    "def beta_vec(beta0, kI, tsi_max):\n",
    "    beta = []\n",
    "    dtsi = tsi_max/float(kI)\n",
    "    for k in range(kI):\n",
    "        beta.append(beta_fun(k*dtsi, beta0, tsi_max))\n",
    "    return beta\n",
    "\n",
    "beta0 = 0.2\n",
    "beta = np.zeros((M,kI))\n",
    "for i in range(M):\n",
    "    beta[i,:] = beta_vec(beta0, kI, tsi_max)\n",
    "\n",
    "# gamma(tsi):\n",
    "def gamma_fun(tsi, g0, tsi_max):\n",
    "    if g0>0:\n",
    "        if tsi<tsi_max:\n",
    "            return g0/(1-np.exp(-g0*(tsi_max-tsi))) # truncated exponential\n",
    "        else:\n",
    "            return None\n",
    "    else:\n",
    "        return 0\n",
    "\n",
    "def gamma_vec(g0, kI, tsi_max):\n",
    "    gI = []\n",
    "    dtsi = tsi_max/float(kI)\n",
    "    for k in range(kI):\n",
    "        gI.append(gamma_fun(dtsi*k, g0, tsi_max))\n",
    "    return gI\n",
    "    \n",
    "g0 = 1/10. # day^{-1}\n",
    "gamma = np.zeros((M,kI))\n",
    "for i in range(M):    \n",
    "    gamma[i,:] = gamma_vec(g0, kI, tsi_max)\n",
    "\n",
    "# Sort parameters into a dictionary\n",
    "parameters = {'beta': beta,\n",
    "              'gI': gamma,\n",
    "              'kI': kI,\n",
    "              'M': M}\n",
    "\n",
    "### Initial Conditions ###\n",
    "\n",
    "# 4 infectives at t=0\n",
    "I0 = np.zeros((M, kI))\n",
    "I0_init_list = [(1, 0), (2, tsi_max/10.) ,(1, tsi_max/2.)] # (number of infectives, tsi)\n",
    "for tup in I0_init_list:\n",
    "    k = int(tup[1]/dtsi)\n",
    "    I0[0,k] = tup[0]\n",
    "\n",
    "# N-4 susceptibles at t=0\n",
    "S0 = np.zeros(M)\n",
    "S0[0] = N - np.sum(I0[0,:]) # \n",
    "\n",
    "model = pyrosstsi.deterministic.SIR(parameters, M, Ni)"
   ]
  },
  {
   "cell_type": "code",
   "execution_count": 3,
   "metadata": {},
   "outputs": [],
   "source": [
    "### Parameters ###\n",
    "dtsi = 1/10.\n",
    "\n",
    "# Time since infection: cut-off + discretisation\n",
    "tsi_max = 50 # days\n",
    "dtsi = 1/5. # days\n",
    "\n",
    "# beta\n",
    "beta = beta_vec(beta0, kI, tsi_max)\n",
    "\n",
    "# gamma\n",
    "gI = gamma_vec(g0, kI, tsi_max)\n",
    "\n",
    "### Initial condition ###\n",
    "# We just rescale the initial condition from stochastic\n",
    "i0 = np.zeros(kI)\n",
    "for tup in I0_init_list:\n",
    "    k = int(tup[1]/dtsi)\n",
    "    i0[k] = (tup[0]/float(N))/dtsi\n",
    "\n",
    "s0 = S0[0]/float(N)\n",
    "\n",
    "### Run ###\n",
    "s_det_traj, i_det_traj = model.simulate(s0, i0, beta, gI, kI, tsi_max, Tf)"
   ]
  },
  {
   "cell_type": "code",
   "execution_count": 4,
   "metadata": {},
   "outputs": [
    {
     "data": {
      "text/plain": [
       "<matplotlib.legend.Legend at 0x7faf1972e390>"
      ]
     },
     "execution_count": 4,
     "metadata": {},
     "output_type": "execute_result"
    },
    {
     "data": {
      "image/png": "[encoded data removed]",
      "text/plain": [
       "<Figure size 432x288 with 1 Axes>"
      ]
     },
     "metadata": {
      "needs_background": "light"
     },
     "output_type": "display_data"
    }
   ],
   "source": [
    "### PLOT ###\n",
    "times = np.linspace(0, Tf, len(s_det_traj))\n",
    "iagg_det_traj = []\n",
    "# iagg_detold_traj = []\n",
    "# aggregated infected pop\n",
    "for t in range(len(s_det_traj)):\n",
    "    iagg_det_traj.append(np.sum(i_det_traj[t]*dtsi))\n",
    "#     iagg_detold_traj.append(np.sum(i_detold_traj[t])*dtsi)\n",
    "    \n",
    "plt.plot(times, s_det_traj, label='s')\n",
    "# plt.plot(times, s_detold_traj, label='s old')\n",
    "plt.plot(times, iagg_det_traj, '--', label='i')\n",
    "# plt.plot(times, iagg_detold_traj, label='i old')\n",
    "plt.legend()"
   ]
  },
  {
   "cell_type": "code",
   "execution_count": null,
   "metadata": {},
   "outputs": [],
   "source": []
  },
  {
   "cell_type": "code",
   "execution_count": null,
   "metadata": {},
   "outputs": [],
   "source": []
  }
 ],
 "metadata": {
  "kernelspec": {
   "display_name": "Python 3",
   "language": "python",
   "name": "python3"
  },
  "language_info": {
   "codemirror_mode": {
    "name": "ipython",
    "version": 3
   },
   "file_extension": ".py",
   "mimetype": "text/x-python",
   "name": "python",
   "nbconvert_exporter": "python",
   "pygments_lexer": "ipython3",
   "version": "3.7.3"
  }
 },
 "nbformat": 4,
 "nbformat_minor": 4
}
