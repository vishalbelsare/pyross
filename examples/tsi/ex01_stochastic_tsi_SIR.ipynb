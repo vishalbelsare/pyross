{
 "cells": [
  {
   "cell_type": "markdown",
   "metadata": {},
   "source": [
    "# PyRoss Stochastic TSI testing\n",
    "\n",
    "We test here the stochastic simulation of TSI-SIR from \"pyross/tsi/stochastic.pyx\".\n",
    "\n",
    "The method used in a Monte-Carlo tau-leaping algorithm that uses binomial distributions rather than classic Poisson distributions.\n"
   ]
  },
  {
   "cell_type": "code",
   "execution_count": 1,
   "metadata": {},
   "outputs": [],
   "source": [
    "### Imports ###\n",
    "import pyross.tsi as pyrosstsi\n",
    "import numpy as np\n",
    "import matplotlib.pyplot as plt\n",
    "\n",
    "import time"
   ]
  },
  {
   "cell_type": "markdown",
   "metadata": {},
   "source": [
    "### Run stochastic (MC) binomial $\\tau$-leaping\n",
    "\n",
    "We only use *one* age class to begin.\n",
    "\n",
    "#### Parameters\n",
    "\n",
    "- Population: $N=10^{3}$\n",
    "- Number of age group = 1\n",
    "- Time since infection *cut-off*: $\\mathrm{tsi}_{\\mathrm{max}} = 50$ days\n",
    "- $\\mathrm{d}\\mathrm{tsi} = 1/5$ days\n",
    "- Total length of the run: $T_{f} = 200$ days\n",
    "\n",
    "We use: \n",
    "- $\\beta(\\tau) = \\beta_{0}$\n",
    "  with $\\beta_{0} = 0.2$\n",
    "- $\\gamma(\\tau) = \\frac{\\gamma_{0}}{\\left( 1-e^{-\\gamma_{0}(\\tau_{\\mathrm{max}}-\\tau)} \\right)}$, with $\\gamma_{0} = 1/10. \\, \\mathrm{days}^{-1}$ and $\\tau_{\\mathrm{max}} = 50$ days.\n",
    "\n",
    "  This function $\\gamma(\\tau)$ comes from a distribution of \"residence time\" in $I$ that is a truncated exponential. One should recover the regular Markovian SIR for $\\tau_{\\mathrm{max}} \\to \\infty$."
   ]
  },
  {
   "cell_type": "code",
   "execution_count": 15,
   "metadata": {},
   "outputs": [
    {
     "name": "stdout",
     "output_type": "stream",
     "text": [
      "Parameters are: beta0=0.2 (beta constant), g0=0.1 days^-1 (truncated exponential survival prob)\n"
     ]
    }
   ],
   "source": [
    "### Model Init from SIR class ###\n",
    "\n",
    "# Population\n",
    "N = int(1e3) # full population size\n",
    "M = 1 # just one age group to begin\n",
    "Ni = np.array([N]) # Array of age group sizes\n",
    "\n",
    "# Contact Matrix\n",
    "CM = np.zeros((M, M))\n",
    "def contactMatrix(t):\n",
    "    CM[0,0] = 1\n",
    "    return CM\n",
    "\n",
    "# Time since infection: cut-off + discretisation\n",
    "tsi_max = 50 # days\n",
    "dtsi = 1/5. # days\n",
    "KI = int(tsi_max/dtsi)+1\n",
    "\n",
    "# beta\n",
    "def beta_fun(tsi, beta0, tsi_max):\n",
    "    if tsi<tsi_max:\n",
    "        return beta0\n",
    "    else:\n",
    "        return None\n",
    "    \n",
    "def beta_vec(beta0, KI, tsi_max):\n",
    "    beta = []\n",
    "    dtsi = tsi_max/float(KI)\n",
    "    for k in range(KI):\n",
    "        beta.append(beta_fun(k*dtsi, beta0, tsi_max))\n",
    "    return beta\n",
    "\n",
    "beta0 = 0.2\n",
    "beta = np.zeros((M,KI))\n",
    "for i in range(M):\n",
    "    beta[i,:] = beta_vec(beta0, KI, tsi_max)\n",
    "\n",
    "# gamma(tsi):\n",
    "def gamma_fun(tsi, g0, tsi_max):\n",
    "    if g0>0:\n",
    "        if tsi<tsi_max:\n",
    "            return g0/(1-np.exp(-g0*(tsi_max-tsi))) # truncated exponential\n",
    "        else:\n",
    "            return None\n",
    "    else:\n",
    "        return 0\n",
    "\n",
    "def gamma_vec(g0, KI, tsi_max):\n",
    "    gI = []\n",
    "    dtsi = tsi_max/float(KI)\n",
    "    for k in range(KI):\n",
    "        gI.append(gamma_fun(dtsi*k, g0, tsi_max))\n",
    "    return gI\n",
    "    \n",
    "g0 = 1/10. # day^{-1}\n",
    "gamma = np.zeros((M,KI))\n",
    "for i in range(M):    \n",
    "    gamma[i,:] = gamma_vec(g0, KI, tsi_max)\n",
    "\n",
    "# Sort parameters into a dictionary\n",
    "parameters = {'beta': beta,\n",
    "              'gI': gamma,\n",
    "              'KI': KI}\n",
    "\n",
    "# Finally, instantiate the model\n",
    "model = pyrosstsi.stochastic.SIR(parameters, M, Ni)\n",
    "\n",
    "print(r'Parameters are: beta0={} (beta constant), g0={} days^-1 (truncated exponential survival prob)'.format(beta0, g0))"
   ]
  },
  {
   "cell_type": "code",
   "execution_count": 3,
   "metadata": {},
   "outputs": [],
   "source": [
    "### Initial Conditions ###\n",
    "\n",
    "# 4 infectives at t=0\n",
    "I0 = np.zeros((M, KI))\n",
    "I0_init_list = [(1, 0), (2, tsi_max/10.) ,(1, tsi_max/2.)] # (number of infectives, tsi)\n",
    "for tup in I0_init_list:\n",
    "    k = int(tup[1]/dtsi)\n",
    "    I0[0,k] = tup[0]\n",
    "\n",
    "# N-4 susceptibles at t=0\n",
    "S0 = np.zeros(M)\n",
    "S0[0] = N - np.sum(I0[0,:]) # "
   ]
  },
  {
   "cell_type": "code",
   "execution_count": 4,
   "metadata": {},
   "outputs": [],
   "source": [
    "### time step and total duration ###\n",
    "dt = dtsi\n",
    "Tf = 200 # days\n",
    "Nf = int(Tf/dt)+1"
   ]
  },
  {
   "cell_type": "code",
   "execution_count": 5,
   "metadata": {},
   "outputs": [
    {
     "name": "stdout",
     "output_type": "stream",
     "text": [
      "Time to run [#(time steps)=1001, #(tsi compartments)=251]: 2.231 s\n"
     ]
    }
   ],
   "source": [
    "### Seed (random generator) ###\n",
    "seed0 = -1 # not the same seed at each run !\n",
    "\n",
    "### RUN simulation ###\n",
    "t1 = time.time()\n",
    "data = model.simulate(S0, I0, contactMatrix, Tf, Nf, supplied_seed=seed0)\n",
    "S_traj = data['S']\n",
    "I_traj = data['I']\n",
    "\n",
    "t2 = time.time()\n",
    "# Let's print the time it took to run:\n",
    "print('Time to run [#(time steps)={}, #(tsi compartments)={}]: {:1.3f} s'.format(Nf, KI, t2-t1))"
   ]
  },
  {
   "cell_type": "code",
   "execution_count": 6,
   "metadata": {},
   "outputs": [
    {
     "data": {
      "image/png": "[encoded data removed]",
      "text/plain": [
       "<Figure size 432x288 with 1 Axes>"
      ]
     },
     "metadata": {
      "needs_background": "light"
     },
     "output_type": "display_data"
    }
   ],
   "source": [
    "### PLOTS ###\n",
    "t_list = np.linspace(0,Tf, Nf)\n",
    "\n",
    "Sagg_traj = []\n",
    "Iagg_traj = []\n",
    "for t in range(Nf):\n",
    "    Sagg_traj.append(np.sum(S_traj[t])/float(N))\n",
    "    Iagg_traj.append(np.sum(I_traj[t])/float(N))\n",
    "\n",
    "plt.plot(t_list, Sagg_traj, label='S (stoch)')\n",
    "plt.plot(t_list, Iagg_traj, label='I (stoch)')\n",
    "plt.legend()\n",
    "\n",
    "plt.title('N={}, Tf={} days, dt={} days, KI={}, $tsi_{{max}}={} $ days'.format(N, Tf, dt, KI, tsi_max));"
   ]
  },
  {
   "cell_type": "markdown",
   "metadata": {},
   "source": [
    "### Comparison to deterministic TSI-SIR model\n",
    "\n",
    "We compare the average trajectory from stochastic simulation to the deterministic solution.\n",
    "This is done with *no* age structure."
   ]
  },
  {
   "cell_type": "markdown",
   "metadata": {},
   "source": [
    "#### Deterministic dynamics\n",
    "We give here the functions to run the deterministic dynamics"
   ]
  },
  {
   "cell_type": "code",
   "execution_count": 7,
   "metadata": {},
   "outputs": [],
   "source": [
    "def lbda_trapezoidal(i, beta, KI, tsi_max):\n",
    "    \"\"\"\n",
    "    Function to compute lambda, the rate to be infected per susceptibles\n",
    "    A trapezoidal integrator is used to compute the integral.\n",
    "    \n",
    "    Parameters\n",
    "    ----------\n",
    "    i: np.array(KI)\n",
    "       Infected population\n",
    "    beta: np.array(KI)\n",
    "       Infectiousness\n",
    "    dtsi: float \n",
    "       the time since infection step (tsi discretisation)\n",
    "    KI: int\n",
    "       Number of discretisation points for tsi\n",
    "       \n",
    "    Returns\n",
    "    -------\n",
    "    lbda: float\n",
    "    \"\"\"\n",
    "    dtsi = tsi_max/float(KI)\n",
    "    lbda_array = [0.5*(beta[k]*i[k] + beta[k+1]*i[k+1])*dtsi for k in range(KI-1)]\n",
    "    lbda = np.sum(lbda_array)\n",
    "#     lbda = 0.5*beta[0]*i[0]*dtsi\n",
    "#     for k in range(1, KI-1):\n",
    "#         lbda += beta[k]*i[k]*dtsi\n",
    "#     lbda += 0.5*beta[KI-1]*i[KI-1]*dtsi\n",
    "    return lbda\n",
    "\n",
    "def deterministic_step(s, i, beta, gamma, KI, tsi_max):\n",
    "    \"\"\"\n",
    "    Function to go one step forward using the deterministic integrator.\n",
    "    We use a RK2/Crank-Nicolson finite difference scheme\n",
    "    \n",
    "    Parameters\n",
    "    ----------\n",
    "    s: float\n",
    "       Number of susceptibles\n",
    "    i: np.array(KI, dtype=float)\n",
    "       Infected population\n",
    "    beta: np.array(KI)\n",
    "       Infectiousness\n",
    "    gamma: np.randge(K))\n",
    "       Recovery rate with respect to tsi  \n",
    "    dtsi: float \n",
    "       the time since infection step (tsi discretisation)\n",
    "    KI: int\n",
    "       Number of discretisation points for tsi\n",
    "   \n",
    "    Returns\n",
    "    -------\n",
    "    snext: float\n",
    "       Updated number of susceptibles\n",
    "    inext: np.array(KI, dtype=float)\n",
    "       Updated infected population\n",
    "    \"\"\"\n",
    "\n",
    "    i_p = np.zeros(KI)\n",
    "    didt_p = np.zeros(KI-1)\n",
    "    didt_c = np.zeros(KI-1)\n",
    "    inext = np.zeros(KI)\n",
    "    \n",
    "    dtsi = tsi_max/float(KI)\n",
    "    dt = dtsi\n",
    "   \n",
    "    # 1. Explicit time step\n",
    "    lbda = lbda_trapezoidal(i, beta, KI, tsi_max)\n",
    "    dsdt_p = - s * lbda \n",
    "    s_p = s + dsdt_p * dt\n",
    "    i_p[0] = - dsdt_p\n",
    "    for k in range(1,KI): # Advection\n",
    "        i_p[k] = i[k-1]\n",
    "    for k in range(1, KI): # Recovery\n",
    "        didt_p[k-1] = - gamma[k] * i_p[k] \n",
    "        i_p[k] = i_p[k] + didt_p[k-1]*dt\n",
    "\n",
    "    # 2. Correction \n",
    "    lbda_p = lbda_trapezoidal(i_p, beta, KI, tsi_max)\n",
    "    dsdt_c = - s_p * lbda_p\n",
    "    \n",
    "    snext = s + 0.5*dt*(dsdt_p + dsdt_c)\n",
    "    \n",
    "    inext[0] = - 0.5*(dsdt_c + dsdt_p)\n",
    "    for k in range(1, KI): # Advection\n",
    "        inext[k] = i[k-1] \n",
    "    for k in range(1,KI):  # Recovery\n",
    "        didt_c[k-1] = - gamma[k] * i_p[k]\n",
    "        inext[k] = inext[k] + 0.5*dt*(didt_p[k-1] + didt_c[k-1])\n",
    "    \n",
    "    return snext, inext\n",
    "\n",
    "def simulate_deterministic(s0, i0, beta, gamma, KI, tsi_max, Tf):\n",
    "    dtsi = tsi_max/float(KI-1)\n",
    "    Nf = int(Tf/dtsi)\n",
    "    s_traj = np.zeros(Nf)\n",
    "    i_traj = np.zeros((Nf, KI))\n",
    "\n",
    "    # Initialise:\n",
    "    s_traj[0] = s0\n",
    "    i_traj[0] = i0\n",
    "\n",
    "    # Run:\n",
    "    for t in range(1,Nf):\n",
    "        s_traj[t], i_traj[t] = deterministic_step(s_traj[t-1], i_traj[t-1], beta, gamma, KI, tsi_max)\n",
    "\n",
    "    return s_traj, i_traj"
   ]
  },
  {
   "cell_type": "markdown",
   "metadata": {},
   "source": [
    "#### Run deterministic"
   ]
  },
  {
   "cell_type": "code",
   "execution_count": 8,
   "metadata": {},
   "outputs": [],
   "source": [
    "### Parameters ###\n",
    "dtsi = 1/10.\n",
    "KI = int(np.round(tsi_max/dtsi)) + 1 # We keep of course the same tsi_max\n",
    "\n",
    "# beta\n",
    "beta = beta_vec(beta0, KI, tsi_max)\n",
    "\n",
    "# gamma\n",
    "gI = gamma_vec(g0, KI, tsi_max)\n",
    "\n",
    "### Initial condition ###\n",
    "# We just rescale the initial condition from stochastic\n",
    "i0 = np.zeros(KI)\n",
    "for tup in I0_init_list:\n",
    "    k = int(tup[1]/dtsi)\n",
    "    i0[k] = (tup[0]/float(N))/dtsi\n",
    "\n",
    "s0 = S0[0]/float(N)\n",
    "\n",
    "### Run ###\n",
    "s_det_traj, i_det_traj = simulate_deterministic(s0, i0, beta, gI, KI, tsi_max, Tf)\n",
    "\n",
    "# ### Old code ###\n",
    "# s_detold_traj, i_detold_traj = old.run_deterministic(s0, i0, beta, gI, dtsi, KI, int(np.round(Tf/dtsi)))"
   ]
  },
  {
   "cell_type": "code",
   "execution_count": 9,
   "metadata": {},
   "outputs": [
    {
     "data": {
      "text/plain": [
       "<matplotlib.legend.Legend at 0x7fec11a58790>"
      ]
     },
     "execution_count": 9,
     "metadata": {},
     "output_type": "execute_result"
    },
    {
     "data": {
      "image/png": "[encoded data removed]",
      "text/plain": [
       "<Figure size 432x288 with 1 Axes>"
      ]
     },
     "metadata": {
      "needs_background": "light"
     },
     "output_type": "display_data"
    }
   ],
   "source": [
    "### PLOT ###\n",
    "times = np.linspace(0, Tf, len(s_det_traj))\n",
    "iagg_det_traj = []\n",
    "# iagg_detold_traj = []\n",
    "# aggregated infected pop\n",
    "for t in range(len(s_det_traj)):\n",
    "    iagg_det_traj.append(np.sum(i_det_traj[t]*dtsi))\n",
    "#     iagg_detold_traj.append(np.sum(i_detold_traj[t])*dtsi)\n",
    "    \n",
    "plt.plot(times, s_det_traj, label='s')\n",
    "# plt.plot(times, s_detold_traj, label='s old')\n",
    "plt.plot(times, iagg_det_traj, label='i')\n",
    "# plt.plot(times, iagg_detold_traj, label='i old')\n",
    "plt.legend()"
   ]
  },
  {
   "cell_type": "code",
   "execution_count": 10,
   "metadata": {},
   "outputs": [
    {
     "name": "stdout",
     "output_type": "stream",
     "text": [
      "Time to run 100 runs [#(time steps)=1001, #(tsi compartments)=501]: 239.935 s\n"
     ]
    }
   ],
   "source": [
    "### Seed (random generator) ###\n",
    "seed0 = -1 # not the same seed at each run !\n",
    "\n",
    "### RUN simulation ###\n",
    "total_runs = int(1e2)\n",
    "data_agg_list = []\n",
    "t1 = time.time()\n",
    "for run in range(total_runs):\n",
    "    data = model.simulate(S0, I0, contactMatrix, Tf, Nf, supplied_seed=seed0)\n",
    "    S_list = data['S']\n",
    "    I_list = data['I']\n",
    "    Sagg_list = []\n",
    "    Iagg_list = []\n",
    "    for t in range(Nf):\n",
    "        Sagg = np.sum(S_list[t])/float(N)\n",
    "        Iagg = np.sum(I_list[t])/float(N)\n",
    "        Sagg_list.append(np.sum(Sagg))\n",
    "        Iagg_list.append(np.sum(Iagg))\n",
    "    data_agg = {'Sagg': Sagg_list,\n",
    "               'Iagg': Iagg_list}\n",
    "    data_agg_list.append(data_agg)\n",
    "t2 = time.time()\n",
    "# Let's print the time it took to run:\n",
    "print('Time to run {} runs [#(time steps)={}, #(tsi compartments)={}]: {:1.3f} s'.format(total_runs, Nf, KI, t2-t1))"
   ]
  },
  {
   "cell_type": "code",
   "execution_count": 12,
   "metadata": {},
   "outputs": [
    {
     "data": {
      "image/png": "[encoded data removed]",
      "text/plain": [
       "<Figure size 432x288 with 1 Axes>"
      ]
     },
     "metadata": {
      "needs_background": "light"
     },
     "output_type": "display_data"
    }
   ],
   "source": [
    "### PLOTS ###\n",
    "t_list = np.linspace(0,Tf, Nf)\n",
    "\n",
    "for run in range(total_runs):\n",
    "    data_agg = data_agg_list[run]\n",
    "    plt.plot(t_list, data_agg['Sagg'], color='b', alpha=0.03)\n",
    "    plt.plot(t_list, data_agg['Iagg'], color='r', alpha=0.03)\n",
    "    \n",
    "plt.plot(times, s_det_traj, color='b', lw=2, label='s (det)')\n",
    "plt.plot(times, iagg_det_traj, color='r', lw=2, label='i (det)')\n",
    "plt.title('N={}, Tf={} days, dt={:1.2f} days, KI={}, $tsi_{{max}}={} $ days'.format(N, Tf, Tf/np.float(Nf), model.parameters['KI'], tsi_max))\n",
    "plt.legend();"
   ]
  },
  {
   "cell_type": "code",
   "execution_count": null,
   "metadata": {},
   "outputs": [],
   "source": []
  },
  {
   "cell_type": "code",
   "execution_count": null,
   "metadata": {},
   "outputs": [],
   "source": []
  }
 ],
 "metadata": {
  "kernelspec": {
   "display_name": "Python 3",
   "language": "python",
   "name": "python3"
  },
  "language_info": {
   "codemirror_mode": {
    "name": "ipython",
    "version": 3
   },
   "file_extension": ".py",
   "mimetype": "text/x-python",
   "name": "python",
   "nbconvert_exporter": "python",
   "pygments_lexer": "ipython3",
   "version": "3.8.5"
  }
 },
 "nbformat": 4,
 "nbformat_minor": 4
}
